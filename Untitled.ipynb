{
 "cells": [
  {
   "cell_type": "code",
   "execution_count": 4,
   "id": "65b9d3d9-b539-450b-b1b3-42fae74a25b0",
   "metadata": {},
   "outputs": [
    {
     "name": "stderr",
     "output_type": "stream",
     "text": [
      "/tmp/ipykernel_33959/2782023361.py:6: DtypeWarning: Columns (16,17,36) have mixed types. Specify dtype option on import or set low_memory=False.\n",
      "  df_train = pd.read_csv(\"./data/train.csv\")\n"
     ]
    },
    {
     "data": {
      "application/vnd.jupyter.widget-view+json": {
       "model_id": "9253e708482442f2ae4fd0b5a594276a",
       "version_major": 2,
       "version_minor": 0
      },
      "text/plain": [
       "  0%|                                                 | 0/17 [00:00<?, ?it/s]"
      ]
     },
     "metadata": {},
     "output_type": "display_data"
    },
    {
     "data": {
      "application/vnd.jupyter.widget-view+json": {
       "model_id": "288799dfc9c044248a653497d8a9de2c",
       "version_major": 2,
       "version_minor": 0
      },
      "text/plain": [
       "  0%|                                                 | 0/17 [00:00<?, ?it/s]"
      ]
     },
     "metadata": {},
     "output_type": "display_data"
    },
    {
     "data": {
      "application/vnd.jupyter.widget-view+json": {
       "model_id": "219a0f8b9c2448618edc842ee9ea4d53",
       "version_major": 2,
       "version_minor": 0
      },
      "text/plain": [
       "  0%|                                                 | 0/17 [00:00<?, ?it/s]"
      ]
     },
     "metadata": {},
     "output_type": "display_data"
    },
    {
     "data": {
      "application/vnd.jupyter.widget-view+json": {
       "model_id": "59302eff0953494b94157b0b91b67454",
       "version_major": 2,
       "version_minor": 0
      },
      "text/plain": [
       "  0%|                                                 | 0/17 [00:00<?, ?it/s]"
      ]
     },
     "metadata": {},
     "output_type": "display_data"
    },
    {
     "data": {
      "application/vnd.jupyter.widget-view+json": {
       "model_id": "1ad0113977d3402e8e459bf3d69b5b31",
       "version_major": 2,
       "version_minor": 0
      },
      "text/plain": [
       "  0%|                                                 | 0/17 [00:00<?, ?it/s]"
      ]
     },
     "metadata": {},
     "output_type": "display_data"
    },
    {
     "data": {
      "application/vnd.jupyter.widget-view+json": {
       "model_id": "43e65ad1736b4cf4b3153760e3c9f09c",
       "version_major": 2,
       "version_minor": 0
      },
      "text/plain": [
       "  0%|                                                 | 0/17 [00:00<?, ?it/s]"
      ]
     },
     "metadata": {},
     "output_type": "display_data"
    },
    {
     "data": {
      "application/vnd.jupyter.widget-view+json": {
       "model_id": "d3b2bfcf63f04225b812e66de05a8639",
       "version_major": 2,
       "version_minor": 0
      },
      "text/plain": [
       "  0%|                                                 | 0/17 [00:00<?, ?it/s]"
      ]
     },
     "metadata": {},
     "output_type": "display_data"
    },
    {
     "data": {
      "application/vnd.jupyter.widget-view+json": {
       "model_id": "2d2bfefb4eab4786a0e036831fee62cc",
       "version_major": 2,
       "version_minor": 0
      },
      "text/plain": [
       "  0%|                                                 | 0/17 [00:00<?, ?it/s]"
      ]
     },
     "metadata": {},
     "output_type": "display_data"
    },
    {
     "data": {
      "application/vnd.jupyter.widget-view+json": {
       "model_id": "59f36c462bc848e4887a899c4aabf383",
       "version_major": 2,
       "version_minor": 0
      },
      "text/plain": [
       "  0%|                                                 | 0/17 [00:00<?, ?it/s]"
      ]
     },
     "metadata": {},
     "output_type": "display_data"
    },
    {
     "data": {
      "application/vnd.jupyter.widget-view+json": {
       "model_id": "36b8d05ffc6f42c483ba372592d4eca4",
       "version_major": 2,
       "version_minor": 0
      },
      "text/plain": [
       "  0%|                                                 | 0/17 [00:00<?, ?it/s]"
      ]
     },
     "metadata": {},
     "output_type": "display_data"
    },
    {
     "data": {
      "application/vnd.jupyter.widget-view+json": {
       "model_id": "4017a8d272db406688f4fada4a936040",
       "version_major": 2,
       "version_minor": 0
      },
      "text/plain": [
       "  0%|                                                 | 0/17 [00:00<?, ?it/s]"
      ]
     },
     "metadata": {},
     "output_type": "display_data"
    },
    {
     "data": {
      "application/vnd.jupyter.widget-view+json": {
       "model_id": "58dc3ed5f9f64729b8945e7ee75b1313",
       "version_major": 2,
       "version_minor": 0
      },
      "text/plain": [
       "  0%|                                                 | 0/17 [00:00<?, ?it/s]"
      ]
     },
     "metadata": {},
     "output_type": "display_data"
    },
    {
     "data": {
      "application/vnd.jupyter.widget-view+json": {
       "model_id": "105a0fd549064314b77c9e7986800877",
       "version_major": 2,
       "version_minor": 0
      },
      "text/plain": [
       "  0%|                                                 | 0/17 [00:00<?, ?it/s]"
      ]
     },
     "metadata": {},
     "output_type": "display_data"
    },
    {
     "data": {
      "application/vnd.jupyter.widget-view+json": {
       "model_id": "fedb7ad203684f05bf4676cdc74a9a4c",
       "version_major": 2,
       "version_minor": 0
      },
      "text/plain": [
       "  0%|                                                 | 0/17 [00:00<?, ?it/s]"
      ]
     },
     "metadata": {},
     "output_type": "display_data"
    },
    {
     "data": {
      "application/vnd.jupyter.widget-view+json": {
       "model_id": "39fd7d699b0643a5a1a322d4507fc735",
       "version_major": 2,
       "version_minor": 0
      },
      "text/plain": [
       "  0%|                                                 | 0/17 [00:00<?, ?it/s]"
      ]
     },
     "metadata": {},
     "output_type": "display_data"
    },
    {
     "data": {
      "application/vnd.jupyter.widget-view+json": {
       "model_id": "f325e3a55a5744e399cac18ea4e4fe80",
       "version_major": 2,
       "version_minor": 0
      },
      "text/plain": [
       "  0%|                                                 | 0/17 [00:00<?, ?it/s]"
      ]
     },
     "metadata": {},
     "output_type": "display_data"
    },
    {
     "data": {
      "application/vnd.jupyter.widget-view+json": {
       "model_id": "8f6ea067e92e4ca8b2eff690897fda36",
       "version_major": 2,
       "version_minor": 0
      },
      "text/plain": [
       "  0%|                                                 | 0/17 [00:00<?, ?it/s]"
      ]
     },
     "metadata": {},
     "output_type": "display_data"
    },
    {
     "data": {
      "application/vnd.jupyter.widget-view+json": {
       "model_id": "394d69988ee84bce99c5b9590b31e1ae",
       "version_major": 2,
       "version_minor": 0
      },
      "text/plain": [
       "  0%|                                                 | 0/17 [00:00<?, ?it/s]"
      ]
     },
     "metadata": {},
     "output_type": "display_data"
    },
    {
     "data": {
      "application/vnd.jupyter.widget-view+json": {
       "model_id": "99bc955b593543a8bfe37434a58c1c24",
       "version_major": 2,
       "version_minor": 0
      },
      "text/plain": [
       "  0%|                                                 | 0/17 [00:00<?, ?it/s]"
      ]
     },
     "metadata": {},
     "output_type": "display_data"
    },
    {
     "data": {
      "application/vnd.jupyter.widget-view+json": {
       "model_id": "0c460dd69cdd40728590f120b5bf9a3f",
       "version_major": 2,
       "version_minor": 0
      },
      "text/plain": [
       "  0%|                                                 | 0/17 [00:00<?, ?it/s]"
      ]
     },
     "metadata": {},
     "output_type": "display_data"
    },
    {
     "data": {
      "application/vnd.jupyter.widget-view+json": {
       "model_id": "729764cce1db4ffe8ab7be1d6fd53ec1",
       "version_major": 2,
       "version_minor": 0
      },
      "text/plain": [
       "  0%|                                                 | 0/17 [00:00<?, ?it/s]"
      ]
     },
     "metadata": {},
     "output_type": "display_data"
    },
    {
     "data": {
      "application/vnd.jupyter.widget-view+json": {
       "model_id": "7c566a5574414989982e424a21fd0347",
       "version_major": 2,
       "version_minor": 0
      },
      "text/plain": [
       "  0%|                                                 | 0/17 [00:00<?, ?it/s]"
      ]
     },
     "metadata": {},
     "output_type": "display_data"
    },
    {
     "data": {
      "application/vnd.jupyter.widget-view+json": {
       "model_id": "96283b5ecfe9436386d3e5cb60c9208d",
       "version_major": 2,
       "version_minor": 0
      },
      "text/plain": [
       "  0%|                                                 | 0/17 [00:00<?, ?it/s]"
      ]
     },
     "metadata": {},
     "output_type": "display_data"
    },
    {
     "data": {
      "application/vnd.jupyter.widget-view+json": {
       "model_id": "1f413a56cb3248e1ba13e77f19c575d5",
       "version_major": 2,
       "version_minor": 0
      },
      "text/plain": [
       "  0%|                                                 | 0/14 [00:00<?, ?it/s]"
      ]
     },
     "metadata": {},
     "output_type": "display_data"
    },
    {
     "data": {
      "application/vnd.jupyter.widget-view+json": {
       "model_id": "54685cfe0b274c1ba0aa838e22bcac86",
       "version_major": 2,
       "version_minor": 0
      },
      "text/plain": [
       "  0%|                                                 | 0/14 [00:00<?, ?it/s]"
      ]
     },
     "metadata": {},
     "output_type": "display_data"
    },
    {
     "data": {
      "application/vnd.jupyter.widget-view+json": {
       "model_id": "7eb81d6725bd478cb3b9f0723c8a5dc0",
       "version_major": 2,
       "version_minor": 0
      },
      "text/plain": [
       "  0%|                                                 | 0/14 [00:00<?, ?it/s]"
      ]
     },
     "metadata": {},
     "output_type": "display_data"
    },
    {
     "data": {
      "application/vnd.jupyter.widget-view+json": {
       "model_id": "719ae8b303574e5ba226d1a9b3b021bf",
       "version_major": 2,
       "version_minor": 0
      },
      "text/plain": [
       "  0%|                                                 | 0/14 [00:00<?, ?it/s]"
      ]
     },
     "metadata": {},
     "output_type": "display_data"
    },
    {
     "data": {
      "application/vnd.jupyter.widget-view+json": {
       "model_id": "3ea36a98f41d4124911531c6dd7a97cd",
       "version_major": 2,
       "version_minor": 0
      },
      "text/plain": [
       "  0%|                                               | 0/9912 [00:00<?, ?it/s]"
      ]
     },
     "metadata": {},
     "output_type": "display_data"
    },
    {
     "ename": "AttributeError",
     "evalue": "'Series' object has no attribute 'len'",
     "output_type": "error",
     "traceback": [
      "\u001b[0;31m---------------------------------------------------------------------------\u001b[0m",
      "\u001b[0;31mAttributeError\u001b[0m                            Traceback (most recent call last)",
      "\u001b[0;32m/tmp/ipykernel_33959/2782023361.py\u001b[0m in \u001b[0;36m?\u001b[0;34m()\u001b[0m\n\u001b[1;32m      5\u001b[0m \u001b[0;34m\u001b[0m\u001b[0m\n\u001b[1;32m      6\u001b[0m \u001b[0mdf_train\u001b[0m \u001b[0;34m=\u001b[0m \u001b[0mpd\u001b[0m\u001b[0;34m.\u001b[0m\u001b[0mread_csv\u001b[0m\u001b[0;34m(\u001b[0m\u001b[0;34m\"./data/train.csv\"\u001b[0m\u001b[0;34m)\u001b[0m\u001b[0;34m\u001b[0m\u001b[0;34m\u001b[0m\u001b[0m\n\u001b[1;32m      7\u001b[0m \u001b[0mdf_test\u001b[0m \u001b[0;34m=\u001b[0m \u001b[0mpd\u001b[0m\u001b[0;34m.\u001b[0m\u001b[0mread_csv\u001b[0m\u001b[0;34m(\u001b[0m\u001b[0;34m\"./data/test.csv\"\u001b[0m\u001b[0;34m)\u001b[0m\u001b[0;34m\u001b[0m\u001b[0;34m\u001b[0m\u001b[0m\n\u001b[1;32m      8\u001b[0m \u001b[0;34m\u001b[0m\u001b[0m\n\u001b[0;32m----> 9\u001b[0;31m \u001b[0mplot\u001b[0m\u001b[0;34m(\u001b[0m\u001b[0mdf_train\u001b[0m\u001b[0;34m)\u001b[0m\u001b[0;34m\u001b[0m\u001b[0;34m\u001b[0m\u001b[0m\n\u001b[0m\u001b[1;32m     10\u001b[0m \u001b[0;34m\u001b[0m\u001b[0m\n\u001b[1;32m     11\u001b[0m \u001b[0;31m# report = create_report(df_train, title='My Report')\u001b[0m\u001b[0;34m\u001b[0m\u001b[0;34m\u001b[0m\u001b[0m\n",
      "\u001b[0;32m~/dev/ml/mlvenv/lib/python3.10/site-packages/dataprep/eda/distribution/__init__.py\u001b[0m in \u001b[0;36m?\u001b[0;34m(df, col1, col2, col3, config, display, dtype, progress)\u001b[0m\n\u001b[1;32m     97\u001b[0m     \"\"\"\n\u001b[1;32m     98\u001b[0m     \u001b[0mcfg\u001b[0m \u001b[0;34m=\u001b[0m \u001b[0mConfig\u001b[0m\u001b[0;34m.\u001b[0m\u001b[0mfrom_dict\u001b[0m\u001b[0;34m(\u001b[0m\u001b[0mdisplay\u001b[0m\u001b[0;34m,\u001b[0m \u001b[0mconfig\u001b[0m\u001b[0;34m)\u001b[0m\u001b[0;34m\u001b[0m\u001b[0;34m\u001b[0m\u001b[0m\n\u001b[1;32m     99\u001b[0m \u001b[0;34m\u001b[0m\u001b[0m\n\u001b[1;32m    100\u001b[0m     \u001b[0;32mwith\u001b[0m \u001b[0mProgressBar\u001b[0m\u001b[0;34m(\u001b[0m\u001b[0mminimum\u001b[0m\u001b[0;34m=\u001b[0m\u001b[0;36m1\u001b[0m\u001b[0;34m,\u001b[0m \u001b[0mdisable\u001b[0m\u001b[0;34m=\u001b[0m\u001b[0;32mnot\u001b[0m \u001b[0mprogress\u001b[0m\u001b[0;34m)\u001b[0m\u001b[0;34m:\u001b[0m\u001b[0;34m\u001b[0m\u001b[0;34m\u001b[0m\u001b[0m\n\u001b[0;32m--> 101\u001b[0;31m         \u001b[0mitmdt\u001b[0m \u001b[0;34m=\u001b[0m \u001b[0mcompute\u001b[0m\u001b[0;34m(\u001b[0m\u001b[0mdf\u001b[0m\u001b[0;34m,\u001b[0m \u001b[0mcol1\u001b[0m\u001b[0;34m,\u001b[0m \u001b[0mcol2\u001b[0m\u001b[0;34m,\u001b[0m \u001b[0mcol3\u001b[0m\u001b[0;34m,\u001b[0m \u001b[0mcfg\u001b[0m\u001b[0;34m=\u001b[0m\u001b[0mcfg\u001b[0m\u001b[0;34m,\u001b[0m \u001b[0mdtype\u001b[0m\u001b[0;34m=\u001b[0m\u001b[0mdtype\u001b[0m\u001b[0;34m)\u001b[0m\u001b[0;34m\u001b[0m\u001b[0;34m\u001b[0m\u001b[0m\n\u001b[0m\u001b[1;32m    102\u001b[0m \u001b[0;34m\u001b[0m\u001b[0m\n\u001b[1;32m    103\u001b[0m     \u001b[0mto_render\u001b[0m \u001b[0;34m=\u001b[0m \u001b[0mrender\u001b[0m\u001b[0;34m(\u001b[0m\u001b[0mitmdt\u001b[0m\u001b[0;34m,\u001b[0m \u001b[0mcfg\u001b[0m\u001b[0;34m)\u001b[0m\u001b[0;34m\u001b[0m\u001b[0;34m\u001b[0m\u001b[0m\n\u001b[1;32m    104\u001b[0m \u001b[0;34m\u001b[0m\u001b[0m\n",
      "\u001b[0;32m~/dev/ml/mlvenv/lib/python3.10/site-packages/dataprep/eda/distribution/compute/__init__.py\u001b[0m in \u001b[0;36m?\u001b[0;34m(df, col1, col2, col3, cfg, display, dtype)\u001b[0m\n\u001b[1;32m     68\u001b[0m \u001b[0;34m\u001b[0m\u001b[0m\n\u001b[1;32m     69\u001b[0m     \u001b[0mx\u001b[0m\u001b[0;34m,\u001b[0m \u001b[0my\u001b[0m\u001b[0;34m,\u001b[0m \u001b[0mz\u001b[0m \u001b[0;34m=\u001b[0m \u001b[0mcol1\u001b[0m\u001b[0;34m,\u001b[0m \u001b[0mcol2\u001b[0m\u001b[0;34m,\u001b[0m \u001b[0mcol3\u001b[0m\u001b[0;34m\u001b[0m\u001b[0;34m\u001b[0m\u001b[0m\n\u001b[1;32m     70\u001b[0m \u001b[0;34m\u001b[0m\u001b[0m\n\u001b[1;32m     71\u001b[0m     \u001b[0;32mif\u001b[0m \u001b[0;32mnot\u001b[0m \u001b[0many\u001b[0m\u001b[0;34m(\u001b[0m\u001b[0;34m[\u001b[0m\u001b[0mx\u001b[0m\u001b[0;34m,\u001b[0m \u001b[0my\u001b[0m\u001b[0;34m,\u001b[0m \u001b[0mz\u001b[0m\u001b[0;34m]\u001b[0m\u001b[0;34m)\u001b[0m\u001b[0;34m:\u001b[0m\u001b[0;34m\u001b[0m\u001b[0;34m\u001b[0m\u001b[0m\n\u001b[0;32m---> 72\u001b[0;31m         \u001b[0;32mreturn\u001b[0m \u001b[0mcompute_overview\u001b[0m\u001b[0;34m(\u001b[0m\u001b[0mdf\u001b[0m\u001b[0;34m,\u001b[0m \u001b[0mcfg\u001b[0m\u001b[0;34m,\u001b[0m \u001b[0mdtype\u001b[0m\u001b[0;34m)\u001b[0m\u001b[0;34m\u001b[0m\u001b[0;34m\u001b[0m\u001b[0m\n\u001b[0m\u001b[1;32m     73\u001b[0m \u001b[0;34m\u001b[0m\u001b[0m\n\u001b[1;32m     74\u001b[0m     \u001b[0;32mif\u001b[0m \u001b[0msum\u001b[0m\u001b[0;34m(\u001b[0m\u001b[0mv\u001b[0m \u001b[0;32mis\u001b[0m \u001b[0;32mNone\u001b[0m \u001b[0;32mfor\u001b[0m \u001b[0mv\u001b[0m \u001b[0;32min\u001b[0m \u001b[0;34m(\u001b[0m\u001b[0mx\u001b[0m\u001b[0;34m,\u001b[0m \u001b[0my\u001b[0m\u001b[0;34m,\u001b[0m \u001b[0mz\u001b[0m\u001b[0;34m)\u001b[0m\u001b[0;34m)\u001b[0m \u001b[0;34m==\u001b[0m \u001b[0;36m2\u001b[0m\u001b[0;34m:\u001b[0m\u001b[0;34m\u001b[0m\u001b[0;34m\u001b[0m\u001b[0m\n\u001b[1;32m     75\u001b[0m         \u001b[0mx\u001b[0m \u001b[0;34m=\u001b[0m \u001b[0mx\u001b[0m \u001b[0;32mor\u001b[0m \u001b[0my\u001b[0m \u001b[0;32mor\u001b[0m \u001b[0mz\u001b[0m\u001b[0;34m\u001b[0m\u001b[0;34m\u001b[0m\u001b[0m\n",
      "\u001b[0;32m~/dev/ml/mlvenv/lib/python3.10/site-packages/dataprep/eda/distribution/compute/overview.py\u001b[0m in \u001b[0;36m?\u001b[0;34m(df, cfg, dtype)\u001b[0m\n\u001b[1;32m     69\u001b[0m                 \u001b[0;34m(\u001b[0m\u001b[0mcol\u001b[0m\u001b[0;34m,\u001b[0m \u001b[0mcol_dtype\u001b[0m\u001b[0;34m,\u001b[0m \u001b[0mdask\u001b[0m\u001b[0;34m.\u001b[0m\u001b[0mdelayed\u001b[0m\u001b[0;34m(\u001b[0m\u001b[0m_calc_line_dt\u001b[0m\u001b[0;34m)\u001b[0m\u001b[0;34m(\u001b[0m\u001b[0mframe\u001b[0m\u001b[0;34m.\u001b[0m\u001b[0mframe\u001b[0m\u001b[0;34m[\u001b[0m\u001b[0;34m[\u001b[0m\u001b[0mcol\u001b[0m\u001b[0;34m]\u001b[0m\u001b[0;34m]\u001b[0m\u001b[0;34m,\u001b[0m \u001b[0mcfg\u001b[0m\u001b[0;34m.\u001b[0m\u001b[0mline\u001b[0m\u001b[0;34m.\u001b[0m\u001b[0munit\u001b[0m\u001b[0;34m)\u001b[0m\u001b[0;34m)\u001b[0m\u001b[0;34m\u001b[0m\u001b[0;34m\u001b[0m\u001b[0m\n\u001b[1;32m     70\u001b[0m             )\n\u001b[1;32m     71\u001b[0m \u001b[0;34m\u001b[0m\u001b[0m\n\u001b[1;32m     72\u001b[0m     \u001b[0mov_stats\u001b[0m \u001b[0;34m=\u001b[0m \u001b[0mcalc_stats\u001b[0m\u001b[0;34m(\u001b[0m\u001b[0mframe\u001b[0m\u001b[0;34m,\u001b[0m \u001b[0mcfg\u001b[0m\u001b[0;34m)\u001b[0m  \u001b[0;31m# overview statistics\u001b[0m\u001b[0;34m\u001b[0m\u001b[0;34m\u001b[0m\u001b[0m\n\u001b[0;32m---> 73\u001b[0;31m     \u001b[0mdata\u001b[0m\u001b[0;34m,\u001b[0m \u001b[0mov_stats\u001b[0m \u001b[0;34m=\u001b[0m \u001b[0mdask\u001b[0m\u001b[0;34m.\u001b[0m\u001b[0mcompute\u001b[0m\u001b[0;34m(\u001b[0m\u001b[0mdata\u001b[0m\u001b[0;34m,\u001b[0m \u001b[0mov_stats\u001b[0m\u001b[0;34m)\u001b[0m\u001b[0;34m\u001b[0m\u001b[0;34m\u001b[0m\u001b[0m\n\u001b[0m\u001b[1;32m     74\u001b[0m \u001b[0;34m\u001b[0m\u001b[0m\n\u001b[1;32m     75\u001b[0m     \u001b[0;31m# extract the plotting data, and detect and format the insights\u001b[0m\u001b[0;34m\u001b[0m\u001b[0;34m\u001b[0m\u001b[0m\n\u001b[1;32m     76\u001b[0m     \u001b[0mplot_data\u001b[0m\u001b[0;34m:\u001b[0m \u001b[0mList\u001b[0m\u001b[0;34m[\u001b[0m\u001b[0mTuple\u001b[0m\u001b[0;34m[\u001b[0m\u001b[0mstr\u001b[0m\u001b[0;34m,\u001b[0m \u001b[0mDType\u001b[0m\u001b[0;34m,\u001b[0m \u001b[0mAny\u001b[0m\u001b[0;34m]\u001b[0m\u001b[0;34m]\u001b[0m \u001b[0;34m=\u001b[0m \u001b[0;34m[\u001b[0m\u001b[0;34m]\u001b[0m\u001b[0;34m\u001b[0m\u001b[0;34m\u001b[0m\u001b[0m\n",
      "\u001b[0;32m~/dev/ml/mlvenv/lib/python3.10/site-packages/dask/base.py\u001b[0m in \u001b[0;36m?\u001b[0;34m(traverse, optimize_graph, scheduler, get, *args, **kwargs)\u001b[0m\n\u001b[1;32m    657\u001b[0m         \u001b[0mkeys\u001b[0m\u001b[0;34m.\u001b[0m\u001b[0mappend\u001b[0m\u001b[0;34m(\u001b[0m\u001b[0mx\u001b[0m\u001b[0;34m.\u001b[0m\u001b[0m__dask_keys__\u001b[0m\u001b[0;34m(\u001b[0m\u001b[0;34m)\u001b[0m\u001b[0;34m)\u001b[0m\u001b[0;34m\u001b[0m\u001b[0;34m\u001b[0m\u001b[0m\n\u001b[1;32m    658\u001b[0m         \u001b[0mpostcomputes\u001b[0m\u001b[0;34m.\u001b[0m\u001b[0mappend\u001b[0m\u001b[0;34m(\u001b[0m\u001b[0mx\u001b[0m\u001b[0;34m.\u001b[0m\u001b[0m__dask_postcompute__\u001b[0m\u001b[0;34m(\u001b[0m\u001b[0;34m)\u001b[0m\u001b[0;34m)\u001b[0m\u001b[0;34m\u001b[0m\u001b[0;34m\u001b[0m\u001b[0m\n\u001b[1;32m    659\u001b[0m \u001b[0;34m\u001b[0m\u001b[0m\n\u001b[1;32m    660\u001b[0m     \u001b[0;32mwith\u001b[0m \u001b[0mshorten_traceback\u001b[0m\u001b[0;34m(\u001b[0m\u001b[0;34m)\u001b[0m\u001b[0;34m:\u001b[0m\u001b[0;34m\u001b[0m\u001b[0;34m\u001b[0m\u001b[0m\n\u001b[0;32m--> 661\u001b[0;31m         \u001b[0mresults\u001b[0m \u001b[0;34m=\u001b[0m \u001b[0mschedule\u001b[0m\u001b[0;34m(\u001b[0m\u001b[0mdsk\u001b[0m\u001b[0;34m,\u001b[0m \u001b[0mkeys\u001b[0m\u001b[0;34m,\u001b[0m \u001b[0;34m**\u001b[0m\u001b[0mkwargs\u001b[0m\u001b[0;34m)\u001b[0m\u001b[0;34m\u001b[0m\u001b[0;34m\u001b[0m\u001b[0m\n\u001b[0m\u001b[1;32m    662\u001b[0m \u001b[0;34m\u001b[0m\u001b[0m\n\u001b[1;32m    663\u001b[0m     \u001b[0;32mreturn\u001b[0m \u001b[0mrepack\u001b[0m\u001b[0;34m(\u001b[0m\u001b[0;34m[\u001b[0m\u001b[0mf\u001b[0m\u001b[0;34m(\u001b[0m\u001b[0mr\u001b[0m\u001b[0;34m,\u001b[0m \u001b[0;34m*\u001b[0m\u001b[0ma\u001b[0m\u001b[0;34m)\u001b[0m \u001b[0;32mfor\u001b[0m \u001b[0mr\u001b[0m\u001b[0;34m,\u001b[0m \u001b[0;34m(\u001b[0m\u001b[0mf\u001b[0m\u001b[0;34m,\u001b[0m \u001b[0ma\u001b[0m\u001b[0;34m)\u001b[0m \u001b[0;32min\u001b[0m \u001b[0mzip\u001b[0m\u001b[0;34m(\u001b[0m\u001b[0mresults\u001b[0m\u001b[0;34m,\u001b[0m \u001b[0mpostcomputes\u001b[0m\u001b[0;34m)\u001b[0m\u001b[0;34m]\u001b[0m\u001b[0;34m)\u001b[0m\u001b[0;34m\u001b[0m\u001b[0;34m\u001b[0m\u001b[0m\n",
      "\u001b[0;32m~/dev/ml/mlvenv/lib/python3.10/site-packages/dask/dataframe/accessor.py\u001b[0m in \u001b[0;36m?\u001b[0;34m(obj, accessor, attr, args, kwargs, catch_deprecation_warnings)\u001b[0m\n\u001b[1;32m     92\u001b[0m         \u001b[0;32mwith\u001b[0m \u001b[0mcheck_to_pydatetime_deprecation\u001b[0m\u001b[0;34m(\u001b[0m\u001b[0mcatch_deprecation_warnings\u001b[0m\u001b[0;34m)\u001b[0m\u001b[0;34m:\u001b[0m\u001b[0;34m\u001b[0m\u001b[0;34m\u001b[0m\u001b[0m\n\u001b[1;32m     93\u001b[0m             \u001b[0;32mwith\u001b[0m \u001b[0mwarnings\u001b[0m\u001b[0;34m.\u001b[0m\u001b[0mcatch_warnings\u001b[0m\u001b[0;34m(\u001b[0m\u001b[0;34m)\u001b[0m\u001b[0;34m:\u001b[0m\u001b[0;34m\u001b[0m\u001b[0;34m\u001b[0m\u001b[0m\n\u001b[1;32m     94\u001b[0m                 \u001b[0;31m# Falling back on a non-pyarrow code path which may decrease performance\u001b[0m\u001b[0;34m\u001b[0m\u001b[0;34m\u001b[0m\u001b[0m\n\u001b[1;32m     95\u001b[0m                 \u001b[0mwarnings\u001b[0m\u001b[0;34m.\u001b[0m\u001b[0msimplefilter\u001b[0m\u001b[0;34m(\u001b[0m\u001b[0;34m\"ignore\"\u001b[0m\u001b[0;34m,\u001b[0m \u001b[0mpd\u001b[0m\u001b[0;34m.\u001b[0m\u001b[0merrors\u001b[0m\u001b[0;34m.\u001b[0m\u001b[0mPerformanceWarning\u001b[0m\u001b[0;34m)\u001b[0m\u001b[0;34m\u001b[0m\u001b[0;34m\u001b[0m\u001b[0m\n\u001b[0;32m---> 96\u001b[0;31m                 \u001b[0mout\u001b[0m \u001b[0;34m=\u001b[0m \u001b[0mgetattr\u001b[0m\u001b[0;34m(\u001b[0m\u001b[0mgetattr\u001b[0m\u001b[0;34m(\u001b[0m\u001b[0mobj\u001b[0m\u001b[0;34m,\u001b[0m \u001b[0maccessor\u001b[0m\u001b[0;34m,\u001b[0m \u001b[0mobj\u001b[0m\u001b[0;34m)\u001b[0m\u001b[0;34m,\u001b[0m \u001b[0mattr\u001b[0m\u001b[0;34m)\u001b[0m\u001b[0;34m(\u001b[0m\u001b[0;34m*\u001b[0m\u001b[0margs\u001b[0m\u001b[0;34m,\u001b[0m \u001b[0;34m**\u001b[0m\u001b[0mkwargs\u001b[0m\u001b[0;34m)\u001b[0m\u001b[0;34m\u001b[0m\u001b[0;34m\u001b[0m\u001b[0m\n\u001b[0m\u001b[1;32m     97\u001b[0m                 \u001b[0;32mreturn\u001b[0m \u001b[0mmaybe_wrap_pandas\u001b[0m\u001b[0;34m(\u001b[0m\u001b[0mobj\u001b[0m\u001b[0;34m,\u001b[0m \u001b[0mout\u001b[0m\u001b[0;34m)\u001b[0m\u001b[0;34m\u001b[0m\u001b[0;34m\u001b[0m\u001b[0m\n",
      "\u001b[0;32m~/dev/ml/mlvenv/lib/python3.10/site-packages/pandas/core/generic.py\u001b[0m in \u001b[0;36m?\u001b[0;34m(self, name)\u001b[0m\n\u001b[1;32m   5898\u001b[0m             \u001b[0;32mand\u001b[0m \u001b[0mname\u001b[0m \u001b[0;32mnot\u001b[0m \u001b[0;32min\u001b[0m \u001b[0mself\u001b[0m\u001b[0;34m.\u001b[0m\u001b[0m_accessors\u001b[0m\u001b[0;34m\u001b[0m\u001b[0;34m\u001b[0m\u001b[0m\n\u001b[1;32m   5899\u001b[0m             \u001b[0;32mand\u001b[0m \u001b[0mself\u001b[0m\u001b[0;34m.\u001b[0m\u001b[0m_info_axis\u001b[0m\u001b[0;34m.\u001b[0m\u001b[0m_can_hold_identifiers_and_holds_name\u001b[0m\u001b[0;34m(\u001b[0m\u001b[0mname\u001b[0m\u001b[0;34m)\u001b[0m\u001b[0;34m\u001b[0m\u001b[0;34m\u001b[0m\u001b[0m\n\u001b[1;32m   5900\u001b[0m         ):\n\u001b[1;32m   5901\u001b[0m             \u001b[0;32mreturn\u001b[0m \u001b[0mself\u001b[0m\u001b[0;34m[\u001b[0m\u001b[0mname\u001b[0m\u001b[0;34m]\u001b[0m\u001b[0;34m\u001b[0m\u001b[0;34m\u001b[0m\u001b[0m\n\u001b[0;32m-> 5902\u001b[0;31m         \u001b[0;32mreturn\u001b[0m \u001b[0mobject\u001b[0m\u001b[0;34m.\u001b[0m\u001b[0m__getattribute__\u001b[0m\u001b[0;34m(\u001b[0m\u001b[0mself\u001b[0m\u001b[0;34m,\u001b[0m \u001b[0mname\u001b[0m\u001b[0;34m)\u001b[0m\u001b[0;34m\u001b[0m\u001b[0;34m\u001b[0m\u001b[0m\n\u001b[0m",
      "\u001b[0;31mAttributeError\u001b[0m: 'Series' object has no attribute 'len'"
     ]
    }
   ],
   "source": [
    "import pandas as pd\n",
    "import matplotlib.pyplot as plt\n",
    "from dataprep.eda import create_report\n",
    "from dataprep.eda import plot\n",
    "\n",
    "df_train = pd.read_csv(\"./data/train.csv\")\n",
    "df_test = pd.read_csv(\"./data/test.csv\")\n",
    "\n",
    "plot(df_train)\n",
    "\n",
    "# report = create_report(df_train, title='My Report')\n"
   ]
  },
  {
   "cell_type": "code",
   "execution_count": 5,
   "id": "224f6881-599a-4ccc-840a-1579b136a553",
   "metadata": {},
   "outputs": [
    {
     "name": "stdout",
     "output_type": "stream",
     "text": [
      "Index(['시군구', '번지', '본번', '부번', '아파트명', '전용면적(㎡)', '계약년월', '계약일', '층', '건축년도',\n",
      "       '도로명', '해제사유발생일', '등기신청일자', '거래유형', '중개사소재지', 'k-단지분류(아파트,주상복합등등)',\n",
      "       'k-전화번호', 'k-팩스번호', '단지소개기존clob', 'k-세대타입(분양형태)', 'k-관리방식', 'k-복도유형',\n",
      "       'k-난방방식', 'k-전체동수', 'k-전체세대수', 'k-건설사(시공사)', 'k-시행사', 'k-사용검사일-사용승인일',\n",
      "       'k-연면적', 'k-주거전용면적', 'k-관리비부과면적', 'k-전용면적별세대현황(60㎡이하)',\n",
      "       'k-전용면적별세대현황(60㎡~85㎡이하)', 'k-85㎡~135㎡이하', 'k-135㎡초과', 'k-홈페이지',\n",
      "       'k-등록일자', 'k-수정일자', '고용보험관리번호', '경비비관리형태', '세대전기계약방법', '청소비관리형태',\n",
      "       '건축면적', '주차대수', '기타/의무/임대/임의=1/2/3/4', '단지승인일', '사용허가여부', '관리비 업로드',\n",
      "       '좌표X', '좌표Y', '단지신청일', 'target'],\n",
      "      dtype='object')\n"
     ]
    }
   ],
   "source": [
    "print(df_train.columns)"
   ]
  },
  {
   "cell_type": "code",
   "execution_count": 30,
   "id": "1afdfebb-b050-46ef-abed-42cce9ef53d8",
   "metadata": {},
   "outputs": [
    {
     "name": "stdout",
     "output_type": "stream",
     "text": [
      "41\n",
      "40\n"
     ]
    }
   ],
   "source": [
    "col = \"k-전체동수\"\n",
    "\n",
    "print(df_train[col].nunique())\n",
    "print(df_test[col].nunique())"
   ]
  },
  {
   "cell_type": "code",
   "execution_count": 17,
   "id": "21bcad0e-599c-4c27-afdc-35baf1deb2f6",
   "metadata": {},
   "outputs": [
    {
     "name": "stderr",
     "output_type": "stream",
     "text": [
      "/data/ephemeral/home/dev/ml/mlvenv/lib/python3.10/site-packages/IPython/core/pylabtools.py:170: UserWarning: Glyph 51473 (\\N{HANGUL SYLLABLE JUNG}) missing from current font.\n",
      "  fig.canvas.print_figure(bytes_io, **kw)\n",
      "/data/ephemeral/home/dev/ml/mlvenv/lib/python3.10/site-packages/IPython/core/pylabtools.py:170: UserWarning: Glyph 44060 (\\N{HANGUL SYLLABLE GAE}) missing from current font.\n",
      "  fig.canvas.print_figure(bytes_io, **kw)\n",
      "/data/ephemeral/home/dev/ml/mlvenv/lib/python3.10/site-packages/IPython/core/pylabtools.py:170: UserWarning: Glyph 44144 (\\N{HANGUL SYLLABLE GEO}) missing from current font.\n",
      "  fig.canvas.print_figure(bytes_io, **kw)\n",
      "/data/ephemeral/home/dev/ml/mlvenv/lib/python3.10/site-packages/IPython/core/pylabtools.py:170: UserWarning: Glyph 47000 (\\N{HANGUL SYLLABLE RAE}) missing from current font.\n",
      "  fig.canvas.print_figure(bytes_io, **kw)\n",
      "/data/ephemeral/home/dev/ml/mlvenv/lib/python3.10/site-packages/IPython/core/pylabtools.py:170: UserWarning: Glyph 51649 (\\N{HANGUL SYLLABLE JIG}) missing from current font.\n",
      "  fig.canvas.print_figure(bytes_io, **kw)\n"
     ]
    },
    {
     "data": {
      "image/png": "[encoded data removed]",
      "text/plain": [
       "<Figure size 640x480 with 1 Axes>"
      ]
     },
     "metadata": {},
     "output_type": "display_data"
    }
   ],
   "source": [
    "df_train[\"거래유형\"].hist(bins=50)\n",
    "\n",
    "plt.show()"
   ]
  },
  {
   "cell_type": "code",
   "execution_count": 16,
   "id": "1f6d3193-e06f-41f0-999c-eccc0209f81a",
   "metadata": {},
   "outputs": [
    {
     "name": "stdout",
     "output_type": "stream",
     "text": [
      "202307\n",
      "202309\n",
      "202307.78623813632\n"
     ]
    }
   ],
   "source": [
    "print(df_test[\"계약년월\"].min())\n",
    "print(df_test[\"계약년월\"].max())\n",
    "print(df_test[\"계약년월\"].mean())"
   ]
  },
  {
   "cell_type": "code",
   "execution_count": 17,
   "id": "e8323337-e97a-4aab-90c4-a88bd9fe3fe7",
   "metadata": {},
   "outputs": [
    {
     "data": {
      "text/html": [
       "<div>\n",
       "<style scoped>\n",
       "    .dataframe tbody tr th:only-of-type {\n",
       "        vertical-align: middle;\n",
       "    }\n",
       "\n",
       "    .dataframe tbody tr th {\n",
       "        vertical-align: top;\n",
       "    }\n",
       "\n",
       "    .dataframe thead th {\n",
       "        text-align: right;\n",
       "    }\n",
       "</style>\n",
       "<table border=\"1\" class=\"dataframe\">\n",
       "  <thead>\n",
       "    <tr style=\"text-align: right;\">\n",
       "      <th></th>\n",
       "      <th>본번</th>\n",
       "      <th>부번</th>\n",
       "      <th>전용면적(㎡)</th>\n",
       "      <th>계약년월</th>\n",
       "      <th>계약일</th>\n",
       "      <th>층</th>\n",
       "      <th>건축년도</th>\n",
       "      <th>해제사유발생일</th>\n",
       "      <th>단지소개기존clob</th>\n",
       "      <th>k-전체동수</th>\n",
       "      <th>...</th>\n",
       "      <th>k-관리비부과면적</th>\n",
       "      <th>k-전용면적별세대현황(60㎡이하)</th>\n",
       "      <th>k-전용면적별세대현황(60㎡~85㎡이하)</th>\n",
       "      <th>k-85㎡~135㎡이하</th>\n",
       "      <th>k-135㎡초과</th>\n",
       "      <th>건축면적</th>\n",
       "      <th>주차대수</th>\n",
       "      <th>좌표X</th>\n",
       "      <th>좌표Y</th>\n",
       "      <th>target</th>\n",
       "    </tr>\n",
       "  </thead>\n",
       "  <tbody>\n",
       "    <tr>\n",
       "      <th>count</th>\n",
       "      <td>1.118747e+06</td>\n",
       "      <td>1.118747e+06</td>\n",
       "      <td>1.118822e+06</td>\n",
       "      <td>1.118822e+06</td>\n",
       "      <td>1.118822e+06</td>\n",
       "      <td>1.118822e+06</td>\n",
       "      <td>1.118822e+06</td>\n",
       "      <td>5.983000e+03</td>\n",
       "      <td>68582.000000</td>\n",
       "      <td>248192.000000</td>\n",
       "      <td>...</td>\n",
       "      <td>249259.000000</td>\n",
       "      <td>249214.000000</td>\n",
       "      <td>249214.000000</td>\n",
       "      <td>249214.000000</td>\n",
       "      <td>327.0</td>\n",
       "      <td>2.491080e+05</td>\n",
       "      <td>249108.000000</td>\n",
       "      <td>249152.000000</td>\n",
       "      <td>249152.000000</td>\n",
       "      <td>1.118822e+06</td>\n",
       "    </tr>\n",
       "    <tr>\n",
       "      <th>mean</th>\n",
       "      <td>5.649108e+02</td>\n",
       "      <td>5.978885e+00</td>\n",
       "      <td>7.717475e+01</td>\n",
       "      <td>2.014760e+05</td>\n",
       "      <td>1.580656e+01</td>\n",
       "      <td>8.871968e+00</td>\n",
       "      <td>1.998755e+03</td>\n",
       "      <td>2.021057e+07</td>\n",
       "      <td>541.529979</td>\n",
       "      <td>14.798346</td>\n",
       "      <td>...</td>\n",
       "      <td>120726.487549</td>\n",
       "      <td>477.912838</td>\n",
       "      <td>476.713439</td>\n",
       "      <td>167.528470</td>\n",
       "      <td>70.0</td>\n",
       "      <td>1.895070e+05</td>\n",
       "      <td>1063.678778</td>\n",
       "      <td>126.995228</td>\n",
       "      <td>37.545785</td>\n",
       "      <td>5.799153e+04</td>\n",
       "    </tr>\n",
       "    <tr>\n",
       "      <th>std</th>\n",
       "      <td>5.160642e+02</td>\n",
       "      <td>4.668584e+01</td>\n",
       "      <td>2.936423e+01</td>\n",
       "      <td>4.187868e+02</td>\n",
       "      <td>8.721166e+00</td>\n",
       "      <td>5.982584e+00</td>\n",
       "      <td>9.333908e+00</td>\n",
       "      <td>1.060697e+04</td>\n",
       "      <td>751.809853</td>\n",
       "      <td>17.693533</td>\n",
       "      <td>...</td>\n",
       "      <td>129020.276480</td>\n",
       "      <td>759.909400</td>\n",
       "      <td>727.553569</td>\n",
       "      <td>248.928143</td>\n",
       "      <td>0.0</td>\n",
       "      <td>1.729027e+06</td>\n",
       "      <td>1235.437604</td>\n",
       "      <td>0.091045</td>\n",
       "      <td>0.052483</td>\n",
       "      <td>4.642602e+04</td>\n",
       "    </tr>\n",
       "    <tr>\n",
       "      <th>min</th>\n",
       "      <td>0.000000e+00</td>\n",
       "      <td>0.000000e+00</td>\n",
       "      <td>1.002000e+01</td>\n",
       "      <td>2.007010e+05</td>\n",
       "      <td>1.000000e+00</td>\n",
       "      <td>-4.000000e+00</td>\n",
       "      <td>1.961000e+03</td>\n",
       "      <td>2.020022e+07</td>\n",
       "      <td>1.000000</td>\n",
       "      <td>1.000000</td>\n",
       "      <td>...</td>\n",
       "      <td>0.000000</td>\n",
       "      <td>0.000000</td>\n",
       "      <td>0.000000</td>\n",
       "      <td>0.000000</td>\n",
       "      <td>70.0</td>\n",
       "      <td>0.000000e+00</td>\n",
       "      <td>0.000000</td>\n",
       "      <td>126.798318</td>\n",
       "      <td>37.447843</td>\n",
       "      <td>3.500000e+02</td>\n",
       "    </tr>\n",
       "    <tr>\n",
       "      <th>25%</th>\n",
       "      <td>1.760000e+02</td>\n",
       "      <td>0.000000e+00</td>\n",
       "      <td>5.965000e+01</td>\n",
       "      <td>2.011100e+05</td>\n",
       "      <td>8.000000e+00</td>\n",
       "      <td>4.000000e+00</td>\n",
       "      <td>1.992000e+03</td>\n",
       "      <td>2.020082e+07</td>\n",
       "      <td>4.000000</td>\n",
       "      <td>5.000000</td>\n",
       "      <td>...</td>\n",
       "      <td>40735.000000</td>\n",
       "      <td>48.000000</td>\n",
       "      <td>95.000000</td>\n",
       "      <td>0.000000</td>\n",
       "      <td>70.0</td>\n",
       "      <td>0.000000e+00</td>\n",
       "      <td>315.000000</td>\n",
       "      <td>126.913157</td>\n",
       "      <td>37.499201</td>\n",
       "      <td>3.050000e+04</td>\n",
       "    </tr>\n",
       "    <tr>\n",
       "      <th>50%</th>\n",
       "      <td>4.700000e+02</td>\n",
       "      <td>0.000000e+00</td>\n",
       "      <td>8.188000e+01</td>\n",
       "      <td>2.015070e+05</td>\n",
       "      <td>1.600000e+01</td>\n",
       "      <td>8.000000e+00</td>\n",
       "      <td>2.000000e+03</td>\n",
       "      <td>2.021030e+07</td>\n",
       "      <td>174.000000</td>\n",
       "      <td>10.000000</td>\n",
       "      <td>...</td>\n",
       "      <td>78125.000000</td>\n",
       "      <td>225.000000</td>\n",
       "      <td>256.000000</td>\n",
       "      <td>63.000000</td>\n",
       "      <td>70.0</td>\n",
       "      <td>1.710550e+03</td>\n",
       "      <td>683.000000</td>\n",
       "      <td>127.014971</td>\n",
       "      <td>37.544936</td>\n",
       "      <td>4.480000e+04</td>\n",
       "    </tr>\n",
       "    <tr>\n",
       "      <th>75%</th>\n",
       "      <td>7.810000e+02</td>\n",
       "      <td>1.000000e+00</td>\n",
       "      <td>8.496000e+01</td>\n",
       "      <td>2.018040e+05</td>\n",
       "      <td>2.300000e+01</td>\n",
       "      <td>1.200000e+01</td>\n",
       "      <td>2.005000e+03</td>\n",
       "      <td>2.022021e+07</td>\n",
       "      <td>725.000000</td>\n",
       "      <td>17.000000</td>\n",
       "      <td>...</td>\n",
       "      <td>159544.000000</td>\n",
       "      <td>576.000000</td>\n",
       "      <td>582.000000</td>\n",
       "      <td>237.000000</td>\n",
       "      <td>70.0</td>\n",
       "      <td>8.414210e+03</td>\n",
       "      <td>1274.000000</td>\n",
       "      <td>127.059590</td>\n",
       "      <td>37.577117</td>\n",
       "      <td>6.980000e+04</td>\n",
       "    </tr>\n",
       "    <tr>\n",
       "      <th>max</th>\n",
       "      <td>4.974000e+03</td>\n",
       "      <td>2.837000e+03</td>\n",
       "      <td>4.243200e+02</td>\n",
       "      <td>2.023060e+05</td>\n",
       "      <td>3.100000e+01</td>\n",
       "      <td>6.900000e+01</td>\n",
       "      <td>2.023000e+03</td>\n",
       "      <td>2.023093e+07</td>\n",
       "      <td>2888.000000</td>\n",
       "      <td>124.000000</td>\n",
       "      <td>...</td>\n",
       "      <td>969877.000000</td>\n",
       "      <td>4975.000000</td>\n",
       "      <td>5132.000000</td>\n",
       "      <td>1500.000000</td>\n",
       "      <td>70.0</td>\n",
       "      <td>3.159620e+07</td>\n",
       "      <td>12096.000000</td>\n",
       "      <td>127.179998</td>\n",
       "      <td>37.687725</td>\n",
       "      <td>1.450000e+06</td>\n",
       "    </tr>\n",
       "  </tbody>\n",
       "</table>\n",
       "<p>8 rows × 23 columns</p>\n",
       "</div>"
      ],
      "text/plain": [
       "                 본번            부번       전용면적(㎡)          계약년월           계약일  \\\n",
       "count  1.118747e+06  1.118747e+06  1.118822e+06  1.118822e+06  1.118822e+06   \n",
       "mean   5.649108e+02  5.978885e+00  7.717475e+01  2.014760e+05  1.580656e+01   \n",
       "std    5.160642e+02  4.668584e+01  2.936423e+01  4.187868e+02  8.721166e+00   \n",
       "min    0.000000e+00  0.000000e+00  1.002000e+01  2.007010e+05  1.000000e+00   \n",
       "25%    1.760000e+02  0.000000e+00  5.965000e+01  2.011100e+05  8.000000e+00   \n",
       "50%    4.700000e+02  0.000000e+00  8.188000e+01  2.015070e+05  1.600000e+01   \n",
       "75%    7.810000e+02  1.000000e+00  8.496000e+01  2.018040e+05  2.300000e+01   \n",
       "max    4.974000e+03  2.837000e+03  4.243200e+02  2.023060e+05  3.100000e+01   \n",
       "\n",
       "                  층          건축년도       해제사유발생일    단지소개기존clob         k-전체동수  \\\n",
       "count  1.118822e+06  1.118822e+06  5.983000e+03  68582.000000  248192.000000   \n",
       "mean   8.871968e+00  1.998755e+03  2.021057e+07    541.529979      14.798346   \n",
       "std    5.982584e+00  9.333908e+00  1.060697e+04    751.809853      17.693533   \n",
       "min   -4.000000e+00  1.961000e+03  2.020022e+07      1.000000       1.000000   \n",
       "25%    4.000000e+00  1.992000e+03  2.020082e+07      4.000000       5.000000   \n",
       "50%    8.000000e+00  2.000000e+03  2.021030e+07    174.000000      10.000000   \n",
       "75%    1.200000e+01  2.005000e+03  2.022021e+07    725.000000      17.000000   \n",
       "max    6.900000e+01  2.023000e+03  2.023093e+07   2888.000000     124.000000   \n",
       "\n",
       "       ...      k-관리비부과면적  k-전용면적별세대현황(60㎡이하)  k-전용면적별세대현황(60㎡~85㎡이하)  \\\n",
       "count  ...  249259.000000       249214.000000           249214.000000   \n",
       "mean   ...  120726.487549          477.912838              476.713439   \n",
       "std    ...  129020.276480          759.909400              727.553569   \n",
       "min    ...       0.000000            0.000000                0.000000   \n",
       "25%    ...   40735.000000           48.000000               95.000000   \n",
       "50%    ...   78125.000000          225.000000              256.000000   \n",
       "75%    ...  159544.000000          576.000000              582.000000   \n",
       "max    ...  969877.000000         4975.000000             5132.000000   \n",
       "\n",
       "        k-85㎡~135㎡이하  k-135㎡초과          건축면적           주차대수            좌표X  \\\n",
       "count  249214.000000     327.0  2.491080e+05  249108.000000  249152.000000   \n",
       "mean      167.528470      70.0  1.895070e+05    1063.678778     126.995228   \n",
       "std       248.928143       0.0  1.729027e+06    1235.437604       0.091045   \n",
       "min         0.000000      70.0  0.000000e+00       0.000000     126.798318   \n",
       "25%         0.000000      70.0  0.000000e+00     315.000000     126.913157   \n",
       "50%        63.000000      70.0  1.710550e+03     683.000000     127.014971   \n",
       "75%       237.000000      70.0  8.414210e+03    1274.000000     127.059590   \n",
       "max      1500.000000      70.0  3.159620e+07   12096.000000     127.179998   \n",
       "\n",
       "                 좌표Y        target  \n",
       "count  249152.000000  1.118822e+06  \n",
       "mean       37.545785  5.799153e+04  \n",
       "std         0.052483  4.642602e+04  \n",
       "min        37.447843  3.500000e+02  \n",
       "25%        37.499201  3.050000e+04  \n",
       "50%        37.544936  4.480000e+04  \n",
       "75%        37.577117  6.980000e+04  \n",
       "max        37.687725  1.450000e+06  \n",
       "\n",
       "[8 rows x 23 columns]"
      ]
     },
     "execution_count": 17,
     "metadata": {},
     "output_type": "execute_result"
    }
   ],
   "source": [
    "df_train.describe()"
   ]
  },
  {
   "cell_type": "code",
   "execution_count": 31,
   "id": "37ce78b5-f929-4ca3-9a5c-3aca89a131f5",
   "metadata": {},
   "outputs": [
    {
     "data": {
      "text/plain": [
       "시군구                             0\n",
       "번지                            225\n",
       "본번                             75\n",
       "부번                             75\n",
       "아파트명                         2126\n",
       "전용면적(㎡)                         0\n",
       "계약년월                            0\n",
       "계약일                             0\n",
       "층                               0\n",
       "건축년도                            0\n",
       "도로명                             0\n",
       "해제사유발생일                   1112839\n",
       "등기신청일자                          0\n",
       "거래유형                            0\n",
       "중개사소재지                          0\n",
       "k-단지분류(아파트,주상복합등등)         870691\n",
       "k-전화번호                     870274\n",
       "k-팩스번호                     872742\n",
       "단지소개기존clob                1050240\n",
       "k-세대타입(분양형태)               869563\n",
       "k-관리방식                     869563\n",
       "k-복도유형                     869890\n",
       "k-난방방식                     869563\n",
       "k-전체동수                     870630\n",
       "k-전체세대수                    869563\n",
       "k-건설사(시공사)                 871058\n",
       "k-시행사                      871254\n",
       "k-사용검사일-사용승인일              869696\n",
       "k-연면적                      869563\n",
       "k-주거전용면적                   869608\n",
       "k-관리비부과면적                  869563\n",
       "k-전용면적별세대현황(60㎡이하)         869608\n",
       "k-전용면적별세대현황(60㎡~85㎡이하)     869608\n",
       "k-85㎡~135㎡이하               869608\n",
       "k-135㎡초과                  1118495\n",
       "k-홈페이지                    1005647\n",
       "k-등록일자                    1107832\n",
       "k-수정일자                     869608\n",
       "고용보험관리번호                   913304\n",
       "경비비관리형태                    870988\n",
       "세대전기계약방법                   878747\n",
       "청소비관리형태                    871178\n",
       "건축면적                       869714\n",
       "주차대수                       869714\n",
       "기타/의무/임대/임의=1/2/3/4        869563\n",
       "단지승인일                      870286\n",
       "사용허가여부                     869563\n",
       "관리비 업로드                    869563\n",
       "좌표X                        869670\n",
       "좌표Y                        869670\n",
       "단지신청일                      869625\n",
       "target                          0\n",
       "dtype: int64"
      ]
     },
     "execution_count": 31,
     "metadata": {},
     "output_type": "execute_result"
    }
   ],
   "source": [
    "df_train.isna().sum()"
   ]
  },
  {
   "cell_type": "code",
   "execution_count": null,
   "id": "6359da85-b352-4b80-9da6-f2e141c3f2cf",
   "metadata": {},
   "outputs": [],
   "source": []
  }
 ],
 "metadata": {
  "kernelspec": {
   "display_name": "Python 3 (ipykernel)",
   "language": "python",
   "name": "python3"
  },
  "language_info": {
   "codemirror_mode": {
    "name": "ipython",
    "version": 3
   },
   "file_extension": ".py",
   "mimetype": "text/x-python",
   "name": "python",
   "nbconvert_exporter": "python",
   "pygments_lexer": "ipython3",
   "version": "3.10.13"
  }
 },
 "nbformat": 4,
 "nbformat_minor": 5
}
